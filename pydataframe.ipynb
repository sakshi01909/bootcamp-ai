{
  "nbformat": 4,
  "nbformat_minor": 0,
  "metadata": {
    "colab": {
      "provenance": [],
      "authorship_tag": "ABX9TyNKFSa7RxT4ADMXvliTVvXs",
      "include_colab_link": true
    },
    "kernelspec": {
      "name": "python3",
      "display_name": "Python 3"
    },
    "language_info": {
      "name": "python"
    }
  },
  "cells": [
    {
      "cell_type": "markdown",
      "metadata": {
        "id": "view-in-github",
        "colab_type": "text"
      },
      "source": [
        "<a href=\"https://colab.research.google.com/github/sakshi01909/bootcamp-ai/blob/main/pydataframe.ipynb\" target=\"_parent\"><img src=\"https://colab.research.google.com/assets/colab-badge.svg\" alt=\"Open In Colab\"/></a>"
      ]
    },
    {
      "cell_type": "code",
      "execution_count": null,
      "metadata": {
        "id": "WV4XLhQODmSq"
      },
      "outputs": [],
      "source": []
    },
    {
      "cell_type": "code",
      "source": [
        "import pandas as pd\n",
        "import numpy as np\n",
        "data = {\n",
        "    'Visitor_ID': [f'V{1000 + i}' for i in range(20)],\n",
        "    'Name': ['ABHISHEK SANDEEP      ZADE     ', 'ARNAV AJAY DESHPANDE.. ', '.. .. ASHWINI LALCHAND MUNDAWARE/ ', 'GAYATRI SURESH GAIKWAD', 'HARSHADA GANESH CHAUDHARI',\n",
        "             'VAIBHAVI HARISHWAR PATIL', np.nan, 'VISHAKHA PUNDLIK JADHAV', 'YASH BHARAT SOLUNKE/', 'VIVEK SANTOSH KHANDWE',\n",
        "             'VISHAKHA PUNDLIK JADHAV', 'Tanushree chhanwal', 'Shruti jaiswal', 'Shriyash Sulakhe', 'YASH BHARAT SOLUNKE',\n",
        "             np.nan, 'ARNAV AJAY DESHPANDE', 'RUTUJA SANTOSH THOTE', 'ROHIT DILIP BILWAL', 'RITESH SHIVAJI BAIRAGI'],\n",
        "    'Age': [25, 23, 22, np.nan, 21, 25, 24, 24, 28, np.nan,\n",
        "            22, 23, 25, 27, 25, 30, 31, 26, 19, 19],\n",
        "    'Ticket_Price': [500, 750, 500, 1000, np.nan, 500, 700, 650, 750, 1000,\n",
        "                      500, 800, np.nan, 750, 500, 700, 900, 850, 750, np.nan],\n",
        "    'Check_In_Time': ['10:00 AM', '10:30 AM', '11:00 AM', '11:30 AM', np.nan,\n",
        "                       '10:00 AM', '12:00 PM', '12:30 PM', '01:00 PM', '01:30 PM',\n",
        "                       '11:00 AM', '02:00 PM', np.nan, '02:30 PM', '10:00 AM',\n",
        "                       '12:00 PM', '03:00 PM', '03:30 PM', '04:00 PM', np.nan],\n",
        "    'City':['Delhi','Aurangabad', 'Mumbai','Bombay','New Delhi','NDL','Chennai','Chenai','Chennaai','Bangalore',\n",
        "            'Delhi','Pune', 'New Delhi','Bombay','New Delhi','NDL','Indore','Bangalore','Ujjain','Bangalore'],\n",
        "    'State': ['Delhi','Maharastra', 'Maharastra','Maharastra','Delhi','Delhi','Tamilnadu','Tamilnadu','Tamilnadu','Karnataka',\n",
        "            'Delhi','Maharastra', 'Delhi','Maharastra','Delhi','Delhi','Madhya Pradesh','Karnataka','Madhya Pradesh','Karnataka']\n",
        "}\n",
        "df = pd.DataFrame(data)\n",
        "df.info()"
      ],
      "metadata": {
        "id": "569DCCL_Fxne",
        "colab": {
          "base_uri": "https://localhost:8080/"
        },
        "outputId": "99fe9f7f-5b94-44be-a761-b49b5880afc7"
      },
      "execution_count": 9,
      "outputs": [
        {
          "output_type": "stream",
          "name": "stdout",
          "text": [
            "<class 'pandas.core.frame.DataFrame'>\n",
            "RangeIndex: 20 entries, 0 to 19\n",
            "Data columns (total 7 columns):\n",
            " #   Column         Non-Null Count  Dtype  \n",
            "---  ------         --------------  -----  \n",
            " 0   Visitor_ID     20 non-null     object \n",
            " 1   Name           18 non-null     object \n",
            " 2   Age            18 non-null     float64\n",
            " 3   Ticket_Price   17 non-null     float64\n",
            " 4   Check_In_Time  17 non-null     object \n",
            " 5   City           20 non-null     object \n",
            " 6   State          20 non-null     object \n",
            "dtypes: float64(2), object(5)\n",
            "memory usage: 1.2+ KB\n"
          ]
        }
      ]
    }
  ]
}