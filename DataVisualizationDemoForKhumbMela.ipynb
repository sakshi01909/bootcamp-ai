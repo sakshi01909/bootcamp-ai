{
 "cells": [
  {
   "cell_type": "markdown",
   "id": "76fe8379-01b8-4c41-8597-44e7b70dd866",
   "metadata": {},
   "source": [
    "What is Matplotlib?\n",
    "It’s a powerful library in Python for creating static, interactive, and animated visualizations.\n",
    "\n",
    "Why Use pyplot?\n",
    "pyplot is like a drawing board where you can plot charts easily, similar to how you'd make graphs in Excel."
   ]
  },
  {
   "cell_type": "code",
   "execution_count": null,
   "id": "eb5d5d57-3edb-45e2-a777-602a5e23cef7",
   "metadata": {},
   "outputs": [],
   "source": [
    "!pip install matplotlib"
   ]
  },
  {
   "cell_type": "code",
   "execution_count": null,
   "id": "23700697-bee7-4ae1-a8e8-4249843cf0fc",
   "metadata": {},
   "outputs": [],
   "source": [
    "import matplotlib.pyplot as plt\n",
    "import numpy as np\n",
    "import pandas as pd"
   ]
  },
  {
   "cell_type": "markdown",
   "id": "3ec74a50-fa23-43d1-9049-5424e1960884",
   "metadata": {},
   "source": [
    "plt is the alias for pyplot.\n",
    "numpy helps generate data for plotting."
   ]
  },
  {
   "cell_type": "code",
   "execution_count": null,
   "id": "29d449e9-2622-46f6-8d36-c64d9cc6e952",
   "metadata": {},
   "outputs": [],
   "source": [
    "# Data\n",
    "x = np.arange(0, 10, 1)  # X-axis: 0 to 9\n",
    "y = x ** 2               # Y-axis: Square of x\n",
    "\n",
    "# Basic Line Plot\n",
    "plt.plot(x, y)"
   ]
  },
  {
   "cell_type": "code",
   "execution_count": null,
   "id": "8604f2e6-e6a6-42ad-8f76-0738552309ef",
   "metadata": {},
   "outputs": [],
   "source": [
    "# Data\n",
    "x = np.arange(0, 10, 1)  # X-axis: 0 to 9\n",
    "y = x ** 2               # Y-axis: Square of x\n",
    "\n",
    "# Basic Line Plot\n",
    "plt.plot(x, y)\n",
    "\n",
    "# Adding labels and title\n",
    "plt.xlabel('X-axis (Numbers)')\n",
    "plt.ylabel('Y-axis (Squares)')\n",
    "plt.title('Simple Line Plot for demonstration')\n",
    "\n",
    "# Display the plot\n",
    "plt.show()\n"
   ]
  },
  {
   "cell_type": "code",
   "execution_count": null,
   "id": "774763a7-7d40-4787-bbcf-4446b7970b77",
   "metadata": {},
   "outputs": [],
   "source": [
    "# Data for plotting a simple line chart\n",
    "x = np.arange(0, 10, 1)  # X-axis: 0 to 9\n",
    "y = x ** 2               # Y-axis: Square of x\n",
    "\n",
    "# Basic Line Plot\n",
    "plt.plot(x, y)\n",
    "\n",
    "# Adding labels and title\n",
    "plt.xlabel('X-axis (Numbers)')\n",
    "plt.ylabel('Y-axis (Squares)')\n",
    "plt.title('Simple Line Plot')\n",
    "\n",
    "# Display the plot\n",
    "plt.show()\n",
    "# Key Functions:\n",
    "# plot() → Draws the line chart.\n",
    "# xlabel(), ylabel() → Labels for the axes.\n",
    "# title() → Adds a title.\n",
    "# show() → Displays the plot in Jupyter."
   ]
  },
  {
   "cell_type": "code",
   "execution_count": null,
   "id": "e7414092-3e8b-4487-82cc-b6fc316a9afe",
   "metadata": {},
   "outputs": [],
   "source": [
    "# Custom Line Plot\n",
    "plt.plot(x, y, color='yellow', linestyle='--', marker='x')\n",
    "\n",
    "plt.xlabel('Numbers')\n",
    "plt.ylabel('Squares')\n",
    "plt.title('Customized Line Plot')\n",
    "\n",
    "plt.grid(True)  # Adds a grid for better readability\n",
    "plt.show()\n",
    "\n",
    "#Customizations:\n",
    "#color='red' → Changes line color.\n",
    "#linestyle='--' → Makes the line dashed.\n",
    "#marker='o' → Adds circular markers to data points.\n",
    "#grid() → Adds grid lines."
   ]
  },
  {
   "cell_type": "code",
   "execution_count": null,
   "id": "ed8be0d5-e5ad-4331-a90e-28664df8dd19",
   "metadata": {},
   "outputs": [],
   "source": []
  },
  {
   "cell_type": "code",
   "execution_count": null,
   "id": "4ac18e0b-e4c9-43ea-b09b-eee0539e037e",
   "metadata": {},
   "outputs": [],
   "source": [
    "# Generating Sample Data for Khubh Mela\n",
    "days = ['Day 1', 'Day 2', 'Day 3', 'Day 4', 'Day 5']\n",
    "visitors = np.random.randint(50000, 200000, size=5)\n",
    "cities = ['Prayagraj', 'Varanasi', 'Lucknow', 'Kanpur', 'Agra']\n",
    "participants = np.random.randint(3000, 15000, size=5)\n",
    "visitors\n",
    "#array([122038, 132960,  78229, 108392, 143408], dtype=int32)"
   ]
  },
  {
   "cell_type": "code",
   "execution_count": null,
   "id": "edc5d481-8de9-4fdc-93fe-7c0dc7b54906",
   "metadata": {},
   "outputs": [],
   "source": [
    "# Creating DataFrames\n",
    "df_visitors = pd.DataFrame({'Day': days, 'Visitors': visitors})\n",
    "df_participants = pd.DataFrame({'City': cities, 'Participants': participants})\n",
    "df_visitors\n",
    "df_participants"
   ]
  },
  {
   "cell_type": "code",
   "execution_count": null,
   "id": "56fa6470-6f0c-4903-bed4-25f30144e167",
   "metadata": {},
   "outputs": [],
   "source": [
    "# Line Plot: Number of Visitors Over Different Days\n",
    "plt.figure(figsize=(8, 5))\n",
    "plt.plot(df_visitors['Day'], df_visitors['Visitors'], marker='o', color='blue')\n",
    "plt.xlabel('Days')\n",
    "plt.ylabel('Number of Visitors')\n",
    "plt.title('Visitors During Khubh Mela Over Days')\n",
    "plt.grid(True)\n",
    "plt.show()"
   ]
  },
  {
   "cell_type": "code",
   "execution_count": null,
   "id": "7625ddba-9adc-406b-8c2c-ee0d960cb7e5",
   "metadata": {},
   "outputs": [],
   "source": [
    "# Bar Chart: Participants from Different Cities\n",
    "plt.figure(figsize=(8, 5))\n",
    "plt.bar(df_participants['City'], df_participants['Participants'], color='orange')\n",
    "plt.xlabel('Cities')\n",
    "plt.ylabel('Number of Participants')\n",
    "plt.title('Participants from Different Cities - Khubh Mela')\n",
    "plt.show()"
   ]
  },
  {
   "cell_type": "code",
   "execution_count": null,
   "id": "e3eb15ff-c699-4cd9-b8cd-2546dba494db",
   "metadata": {},
   "outputs": [],
   "source": [
    "# Pie Chart: Distribution of Participants by City\n",
    "plt.figure(figsize=(8, 8))\n",
    "plt.pie(df_participants['Participants'], labels=df_participants['City'], autopct='%1.1f%%', colors=plt.cm.Paired.colors)\n",
    "plt.title('Participant Distribution by City')\n",
    "plt.show()\n"
   ]
  },
  {
   "cell_type": "code",
   "execution_count": null,
   "id": "1fb3144f-d26d-4456-924d-30181e742906",
   "metadata": {},
   "outputs": [],
   "source": [
    "# Multiple Plots in One Figure\n",
    "plt.figure(figsize=(12, 6))\n",
    "\n",
    "# Subplot 1: Line Plot\n",
    "plt.subplot(1, 2, 1)\n",
    "plt.plot(df_visitors['Day'], df_visitors['Visitors'], marker='s', color='green')\n",
    "plt.title('Daily Visitors')\n",
    "plt.xlabel('Days')\n",
    "plt.ylabel('Visitors')\n",
    "\n",
    "# Subplot 2: Bar Chart\n",
    "plt.subplot(1, 2, 2)\n",
    "plt.bar(df_participants['City'], df_participants['Participants'], color='purple')\n",
    "plt.title('City-wise Participants')\n",
    "plt.xlabel('Cities')\n",
    "plt.ylabel('Participants')\n",
    "\n",
    "plt.tight_layout()\n",
    "plt.show()\n",
    "\n",
    "# Adding Legends with Multiple Lines\n",
    "plt.figure(figsize=(8, 5))\n",
    "x = np.arange(1, 6)\n",
    "plt.plot(x, visitors, label='Visitors Trend', linestyle='-', marker='o')\n",
    "plt.plot(x, participants, label='Participants Trend', linestyle='--', marker='s')\n",
    "plt.xlabel('Days/Cities Index')\n",
    "plt.ylabel('Count')\n",
    "plt.title('Visitors & Participants Trend - Khubh Mela')\n",
    "plt.legend()\n",
    "plt.grid(True)\n",
    "plt.show()\n",
    "\n",
    "# Saving a Plot\n",
    "plt.figure(figsize=(8, 5))\n",
    "plt.plot(df_visitors['Day'], df_visitors['Visitors'], color='red')\n",
    "plt.title('Saved Plot Example - Visitors Trend')\n",
    "plt.savefig('khubh_mela_visitors_trend.png')\n",
    "plt.show()\n"
   ]
  },
  {
   "cell_type": "code",
   "execution_count": null,
   "id": "16db0812-8e2e-4102-bf98-e940a1785d2c",
   "metadata": {},
   "outputs": [],
   "source": [
    "Assignment: Create a visualization for Khubh Mela data.\n",
    "1. Plot the number of visitors over different days (Line Plot).\n",
    "2. Show the distribution of participants by city (Bar Chart).\n",
    "3. Use legends, gridlines, and save the plot.\n",
    "4. Upload the completed ipynb in your github repository for submission and evaluation"
   ]
  }
 ],
 "metadata": {
  "kernelspec": {
   "display_name": "Python 3 (ipykernel)",
   "language": "python",
   "name": "python3"
  },
  "language_info": {
   "codemirror_mode": {
    "name": "ipython",
    "version": 3
   },
   "file_extension": ".py",
   "mimetype": "text/x-python",
   "name": "python",
   "nbconvert_exporter": "python",
   "pygments_lexer": "ipython3",
   "version": "3.12.8"
  }
 },
 "nbformat": 4,
 "nbformat_minor": 5
}
